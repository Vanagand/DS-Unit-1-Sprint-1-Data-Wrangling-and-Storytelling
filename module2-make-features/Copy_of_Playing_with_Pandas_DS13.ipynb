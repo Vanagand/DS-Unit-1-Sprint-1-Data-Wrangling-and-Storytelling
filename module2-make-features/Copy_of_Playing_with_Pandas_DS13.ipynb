{
  "nbformat": 4,
  "nbformat_minor": 0,
  "metadata": {
    "colab": {
      "name": "Copy of Playing with Pandas DS13.ipynb",
      "provenance": [],
      "collapsed_sections": [],
      "include_colab_link": true
    },
    "kernelspec": {
      "name": "python3",
      "display_name": "Python 3"
    }
  },
  "cells": [
    {
      "cell_type": "markdown",
      "metadata": {
        "id": "view-in-github",
        "colab_type": "text"
      },
      "source": [
        "<a href=\"https://colab.research.google.com/github/Vanagand/DS-Unit-1-Sprint-1-Data-Wrangling-and-Storytelling/blob/master/module2-make-features/Copy_of_Playing_with_Pandas_DS13.ipynb\" target=\"_parent\"><img src=\"https://colab.research.google.com/assets/colab-badge.svg\" alt=\"Open In Colab\"/></a>"
      ]
    },
    {
      "cell_type": "markdown",
      "metadata": {
        "id": "qMuqtpAcfCr3",
        "colab_type": "text"
      },
      "source": [
        "1) Import data (Landslide data from NASA):\n",
        "https://query.data.world/s/h63v5sypgtnhkpevtqbdf3v472ppic\n"
      ]
    },
    {
      "cell_type": "code",
      "metadata": {
        "id": "CxbMufBWfBrf",
        "colab_type": "code",
        "colab": {}
      },
      "source": [
        "import pandas as pd\n",
        "import numpy as np"
      ],
      "execution_count": 0,
      "outputs": []
    },
    {
      "cell_type": "code",
      "metadata": {
        "id": "qwzid7MF_vKH",
        "colab_type": "code",
        "colab": {}
      },
      "source": [
        "nasa_landslide_url = 'https://query.data.world/s/h63v5sypgtnhkpevtqbdf3v472ppic'\n",
        "\n",
        "df_nasa = pd.read_csv(nasa_landslide_url)"
      ],
      "execution_count": 0,
      "outputs": []
    },
    {
      "cell_type": "markdown",
      "metadata": {
        "id": "wUL1qg9XfNjL",
        "colab_type": "text"
      },
      "source": [
        "\n",
        "2) Get a look at the data:\n",
        "Print the head of the data."
      ]
    },
    {
      "cell_type": "code",
      "metadata": {
        "id": "J38NJE0YfT6p",
        "colab_type": "code",
        "colab": {
          "base_uri": "https://localhost:8080/",
          "height": 564
        },
        "outputId": "a4193984-711a-41df-9c36-44b2545131a6"
      },
      "source": [
        "df_nasa.head()"
      ],
      "execution_count": 88,
      "outputs": [
        {
          "output_type": "execute_result",
          "data": {
            "text/html": [
              "<div>\n",
              "<style scoped>\n",
              "    .dataframe tbody tr th:only-of-type {\n",
              "        vertical-align: middle;\n",
              "    }\n",
              "\n",
              "    .dataframe tbody tr th {\n",
              "        vertical-align: top;\n",
              "    }\n",
              "\n",
              "    .dataframe thead th {\n",
              "        text-align: right;\n",
              "    }\n",
              "</style>\n",
              "<table border=\"1\" class=\"dataframe\">\n",
              "  <thead>\n",
              "    <tr style=\"text-align: right;\">\n",
              "      <th></th>\n",
              "      <th>id</th>\n",
              "      <th>date</th>\n",
              "      <th>time</th>\n",
              "      <th>country</th>\n",
              "      <th>nearest_places</th>\n",
              "      <th>hazard_type</th>\n",
              "      <th>landslide_type</th>\n",
              "      <th>trigger</th>\n",
              "      <th>storm_name</th>\n",
              "      <th>fatalities</th>\n",
              "      <th>injuries</th>\n",
              "      <th>source_name</th>\n",
              "      <th>source_link</th>\n",
              "      <th>location_description</th>\n",
              "      <th>location_accuracy</th>\n",
              "      <th>landslide_size</th>\n",
              "      <th>photos_link</th>\n",
              "      <th>cat_src</th>\n",
              "      <th>cat_id</th>\n",
              "      <th>countryname</th>\n",
              "      <th>near</th>\n",
              "      <th>distance</th>\n",
              "      <th>adminname1</th>\n",
              "      <th>adminname2</th>\n",
              "      <th>population</th>\n",
              "      <th>countrycode</th>\n",
              "      <th>continentcode</th>\n",
              "      <th>key</th>\n",
              "      <th>version</th>\n",
              "      <th>tstamp</th>\n",
              "      <th>changeset_id</th>\n",
              "      <th>latitude</th>\n",
              "      <th>longitude</th>\n",
              "      <th>geolocation</th>\n",
              "    </tr>\n",
              "  </thead>\n",
              "  <tbody>\n",
              "    <tr>\n",
              "      <th>0</th>\n",
              "      <td>1</td>\n",
              "      <td>01/02/2007</td>\n",
              "      <td>NaN</td>\n",
              "      <td>United Kingdom</td>\n",
              "      <td>Whitehaven, Cumbria</td>\n",
              "      <td>landslide</td>\n",
              "      <td>Landslide</td>\n",
              "      <td>Rain</td>\n",
              "      <td>NaN</td>\n",
              "      <td>1.0</td>\n",
              "      <td>NaN</td>\n",
              "      <td>The Times</td>\n",
              "      <td>http://www.timesonline.co.uk/tol/newspapers/su...</td>\n",
              "      <td>NaN</td>\n",
              "      <td>Known_within_5_km</td>\n",
              "      <td>Medium</td>\n",
              "      <td>NaN</td>\n",
              "      <td>glc</td>\n",
              "      <td>1.0</td>\n",
              "      <td>United Kingdom</td>\n",
              "      <td>Whitehaven</td>\n",
              "      <td>0.22405</td>\n",
              "      <td>England</td>\n",
              "      <td>Cumbria</td>\n",
              "      <td>24803.0</td>\n",
              "      <td>GB</td>\n",
              "      <td>EU</td>\n",
              "      <td>sGaiIKdcW</td>\n",
              "      <td>1.0</td>\n",
              "      <td>Tue Apr 01 2014 00:00:00 GMT+0000 (UTC)</td>\n",
              "      <td>1.0</td>\n",
              "      <td>54.549400</td>\n",
              "      <td>-3.587500</td>\n",
              "      <td>(54.549399999999999, -3.5874999999999999)</td>\n",
              "    </tr>\n",
              "    <tr>\n",
              "      <th>1</th>\n",
              "      <td>2</td>\n",
              "      <td>01/03/2007</td>\n",
              "      <td>NaN</td>\n",
              "      <td>Peru</td>\n",
              "      <td>Alto Mesapata, in the Pasco province</td>\n",
              "      <td>landslide</td>\n",
              "      <td>Complex</td>\n",
              "      <td>Rain</td>\n",
              "      <td>NaN</td>\n",
              "      <td>NaN</td>\n",
              "      <td>NaN</td>\n",
              "      <td>My Opera</td>\n",
              "      <td>http://my.opera.com/bibberle/blog/index.dml/ta...</td>\n",
              "      <td>NaN</td>\n",
              "      <td>Unknown</td>\n",
              "      <td>Medium</td>\n",
              "      <td>NaN</td>\n",
              "      <td>glc</td>\n",
              "      <td>2.0</td>\n",
              "      <td>Peru</td>\n",
              "      <td>Huancabamba</td>\n",
              "      <td>12.26171</td>\n",
              "      <td>Pasco</td>\n",
              "      <td>Provincia de Oxapampa</td>\n",
              "      <td>0.0</td>\n",
              "      <td>PE</td>\n",
              "      <td>SA</td>\n",
              "      <td>S95OsumK4</td>\n",
              "      <td>1.0</td>\n",
              "      <td>Tue Apr 01 2014 00:00:00 GMT+0000 (UTC)</td>\n",
              "      <td>1.0</td>\n",
              "      <td>-10.383800</td>\n",
              "      <td>-75.426700</td>\n",
              "      <td>(-10.383800000000001, -75.426699999999997)</td>\n",
              "    </tr>\n",
              "    <tr>\n",
              "      <th>2</th>\n",
              "      <td>3</td>\n",
              "      <td>01/05/2007</td>\n",
              "      <td>NaN</td>\n",
              "      <td>Brazil</td>\n",
              "      <td>Nova Friburgo, Rio de Janeiro</td>\n",
              "      <td>landslide</td>\n",
              "      <td>Landslide</td>\n",
              "      <td>Rain</td>\n",
              "      <td>NaN</td>\n",
              "      <td>7.0</td>\n",
              "      <td>NaN</td>\n",
              "      <td>Deutsche Presse-Agentur - MonstersandCritics</td>\n",
              "      <td>http://news.monstersandcritics.com/americas/ne...</td>\n",
              "      <td>NaN</td>\n",
              "      <td>Known_within_25_km</td>\n",
              "      <td>Large</td>\n",
              "      <td>NaN</td>\n",
              "      <td>glc</td>\n",
              "      <td>3.0</td>\n",
              "      <td>Brazil</td>\n",
              "      <td>Nova Friburgo</td>\n",
              "      <td>0.63016</td>\n",
              "      <td>Rio de Janeiro</td>\n",
              "      <td>Nova Friburgo</td>\n",
              "      <td>153361.0</td>\n",
              "      <td>BR</td>\n",
              "      <td>SA</td>\n",
              "      <td>D5vlNdgB7</td>\n",
              "      <td>1.0</td>\n",
              "      <td>Tue Apr 01 2014 00:00:00 GMT+0000 (UTC)</td>\n",
              "      <td>1.0</td>\n",
              "      <td>-22.282346</td>\n",
              "      <td>-42.536362</td>\n",
              "      <td>(-22.282346350000001, -42.536362050000001)</td>\n",
              "    </tr>\n",
              "    <tr>\n",
              "      <th>3</th>\n",
              "      <td>4</td>\n",
              "      <td>01/05/2007</td>\n",
              "      <td>NaN</td>\n",
              "      <td>Brazil</td>\n",
              "      <td>Sumidouro, Rio de Janeiro</td>\n",
              "      <td>landslide</td>\n",
              "      <td>Landslide</td>\n",
              "      <td>Rain</td>\n",
              "      <td>NaN</td>\n",
              "      <td>2.0</td>\n",
              "      <td>NaN</td>\n",
              "      <td>Deutsche Presse-Agentur - MonstersandCritics</td>\n",
              "      <td>http://news.monstersandcritics.com/americas/ne...</td>\n",
              "      <td>NaN</td>\n",
              "      <td>Known_within_10_km</td>\n",
              "      <td>Medium</td>\n",
              "      <td>NaN</td>\n",
              "      <td>glc</td>\n",
              "      <td>4.0</td>\n",
              "      <td>Brazil</td>\n",
              "      <td>Carmo</td>\n",
              "      <td>14.05144</td>\n",
              "      <td>Rio de Janeiro</td>\n",
              "      <td>Carmo</td>\n",
              "      <td>11555.0</td>\n",
              "      <td>BR</td>\n",
              "      <td>SA</td>\n",
              "      <td>h5J8IFdc4</td>\n",
              "      <td>1.0</td>\n",
              "      <td>Tue Apr 01 2014 00:00:00 GMT+0000 (UTC)</td>\n",
              "      <td>1.0</td>\n",
              "      <td>-22.045200</td>\n",
              "      <td>-42.673400</td>\n",
              "      <td>(-22.045200000000001, -42.673400000000001)</td>\n",
              "    </tr>\n",
              "    <tr>\n",
              "      <th>4</th>\n",
              "      <td>5</td>\n",
              "      <td>01/05/2007</td>\n",
              "      <td>NaN</td>\n",
              "      <td>Brazil</td>\n",
              "      <td>Jundiai, Sao Paulo</td>\n",
              "      <td>landslide</td>\n",
              "      <td>Landslide</td>\n",
              "      <td>Rain</td>\n",
              "      <td>NaN</td>\n",
              "      <td>1.0</td>\n",
              "      <td>NaN</td>\n",
              "      <td>Deutsche Presse-Agentur - MonstersandCritics</td>\n",
              "      <td>http://news.monstersandcritics.com/americas/ne...</td>\n",
              "      <td>NaN</td>\n",
              "      <td>Known_within_50_km</td>\n",
              "      <td>Medium</td>\n",
              "      <td>NaN</td>\n",
              "      <td>glc</td>\n",
              "      <td>5.0</td>\n",
              "      <td>Brazil</td>\n",
              "      <td>Mairipor√£</td>\n",
              "      <td>10.07582</td>\n",
              "      <td>S√£o Paulo</td>\n",
              "      <td>Mairipor√£</td>\n",
              "      <td>54415.0</td>\n",
              "      <td>BR</td>\n",
              "      <td>SA</td>\n",
              "      <td>s5Zb5FdB4</td>\n",
              "      <td>1.0</td>\n",
              "      <td>Tue Apr 01 2014 00:00:00 GMT+0000 (UTC)</td>\n",
              "      <td>1.0</td>\n",
              "      <td>-23.231100</td>\n",
              "      <td>-46.613600</td>\n",
              "      <td>(-23.231100000000001, -46.613599999999998)</td>\n",
              "    </tr>\n",
              "  </tbody>\n",
              "</table>\n",
              "</div>"
            ],
            "text/plain": [
              "   id        date  ...  longitude                                 geolocation\n",
              "0   1  01/02/2007  ...  -3.587500   (54.549399999999999, -3.5874999999999999)\n",
              "1   2  01/03/2007  ... -75.426700  (-10.383800000000001, -75.426699999999997)\n",
              "2   3  01/05/2007  ... -42.536362  (-22.282346350000001, -42.536362050000001)\n",
              "3   4  01/05/2007  ... -42.673400  (-22.045200000000001, -42.673400000000001)\n",
              "4   5  01/05/2007  ... -46.613600  (-23.231100000000001, -46.613599999999998)\n",
              "\n",
              "[5 rows x 34 columns]"
            ]
          },
          "metadata": {
            "tags": []
          },
          "execution_count": 88
        }
      ]
    },
    {
      "cell_type": "markdown",
      "metadata": {
        "id": "oSD67ik9fVuW",
        "colab_type": "text"
      },
      "source": [
        "3) Create two variables named \"pop\" and \"shape\": \n",
        " Assign the \"pop\" variable to the mean of the population column and the \"shape\" variable to the shape of the dataset.\n"
      ]
    },
    {
      "cell_type": "code",
      "metadata": {
        "id": "UByFeJ2_feuJ",
        "colab_type": "code",
        "colab": {
          "base_uri": "https://localhost:8080/",
          "height": 34
        },
        "outputId": "89f11e54-43d8-4c65-f42f-fdbaa04731ef"
      },
      "source": [
        "pop_mean = df_nasa[\"population\"].mean(axis=0, skipna=True)\n",
        "\n",
        "# rounding result to 2 decimals\n",
        "pop = round(pop_mean, 2)\n",
        "print(pop)"
      ],
      "execution_count": 46,
      "outputs": [
        {
          "output_type": "stream",
          "text": [
            "156874.91\n"
          ],
          "name": "stdout"
        }
      ]
    },
    {
      "cell_type": "code",
      "metadata": {
        "id": "3aIoCbEgDKAq",
        "colab_type": "code",
        "colab": {
          "base_uri": "https://localhost:8080/",
          "height": 34
        },
        "outputId": "08be02fa-140f-40eb-cea2-ccf234dc4d4a"
      },
      "source": [
        "shape = df_nasa.shape\n",
        "\n",
        "print(shape)"
      ],
      "execution_count": 39,
      "outputs": [
        {
          "output_type": "stream",
          "text": [
            "(9564, 34)\n"
          ],
          "name": "stdout"
        }
      ]
    },
    {
      "cell_type": "markdown",
      "metadata": {
        "id": "gvWG_uH2flNc",
        "colab_type": "text"
      },
      "source": [
        "**STRETCH GOAL:**\n",
        "Finish early? Find the median, mean, and mode of more columns and print them. Done that? Add standard deviation and variance. Play around with display options and print statements to create an output that is accessible to others."
      ]
    },
    {
      "cell_type": "code",
      "metadata": {
        "id": "upEfhnlvfkfk",
        "colab_type": "code",
        "colab": {
          "base_uri": "https://localhost:8080/",
          "height": 297
        },
        "outputId": "afa34ccf-81b6-4cc0-e1b3-7a5087b9f862"
      },
      "source": [
        "round(df_nasa.describe(), 5)"
      ],
      "execution_count": 51,
      "outputs": [
        {
          "output_type": "execute_result",
          "data": {
            "text/html": [
              "<div>\n",
              "<style scoped>\n",
              "    .dataframe tbody tr th:only-of-type {\n",
              "        vertical-align: middle;\n",
              "    }\n",
              "\n",
              "    .dataframe tbody tr th {\n",
              "        vertical-align: top;\n",
              "    }\n",
              "\n",
              "    .dataframe thead th {\n",
              "        text-align: right;\n",
              "    }\n",
              "</style>\n",
              "<table border=\"1\" class=\"dataframe\">\n",
              "  <thead>\n",
              "    <tr style=\"text-align: right;\">\n",
              "      <th></th>\n",
              "      <th>id</th>\n",
              "      <th>fatalities</th>\n",
              "      <th>injuries</th>\n",
              "      <th>cat_id</th>\n",
              "      <th>distance</th>\n",
              "      <th>population</th>\n",
              "      <th>version</th>\n",
              "      <th>changeset_id</th>\n",
              "      <th>latitude</th>\n",
              "      <th>longitude</th>\n",
              "    </tr>\n",
              "  </thead>\n",
              "  <tbody>\n",
              "    <tr>\n",
              "      <th>count</th>\n",
              "      <td>9564.00000</td>\n",
              "      <td>8212.00000</td>\n",
              "      <td>3942.00000</td>\n",
              "      <td>9530.00000</td>\n",
              "      <td>9530.00000</td>\n",
              "      <td>9.530000e+03</td>\n",
              "      <td>9555.00000</td>\n",
              "      <td>9.555000e+03</td>\n",
              "      <td>9564.00000</td>\n",
              "      <td>9564.00000</td>\n",
              "    </tr>\n",
              "    <tr>\n",
              "      <th>mean</th>\n",
              "      <td>4824.00826</td>\n",
              "      <td>3.53714</td>\n",
              "      <td>0.85236</td>\n",
              "      <td>4806.02004</td>\n",
              "      <td>11.90252</td>\n",
              "      <td>1.568749e+05</td>\n",
              "      <td>1.12119</td>\n",
              "      <td>8.807481e+08</td>\n",
              "      <td>25.66181</td>\n",
              "      <td>3.81578</td>\n",
              "    </tr>\n",
              "    <tr>\n",
              "      <th>std</th>\n",
              "      <td>2799.04012</td>\n",
              "      <td>64.66976</td>\n",
              "      <td>8.28079</td>\n",
              "      <td>2792.51667</td>\n",
              "      <td>15.61819</td>\n",
              "      <td>8.272427e+05</td>\n",
              "      <td>0.32637</td>\n",
              "      <td>1.325119e+09</td>\n",
              "      <td>20.41618</td>\n",
              "      <td>100.23868</td>\n",
              "    </tr>\n",
              "    <tr>\n",
              "      <th>min</th>\n",
              "      <td>1.00000</td>\n",
              "      <td>0.00000</td>\n",
              "      <td>0.00000</td>\n",
              "      <td>1.00000</td>\n",
              "      <td>0.00003</td>\n",
              "      <td>0.000000e+00</td>\n",
              "      <td>1.00000</td>\n",
              "      <td>1.000000e+00</td>\n",
              "      <td>-46.77480</td>\n",
              "      <td>-170.79980</td>\n",
              "    </tr>\n",
              "    <tr>\n",
              "      <th>25%</th>\n",
              "      <td>2401.75000</td>\n",
              "      <td>0.00000</td>\n",
              "      <td>0.00000</td>\n",
              "      <td>2390.25000</td>\n",
              "      <td>2.36775</td>\n",
              "      <td>1.940000e+03</td>\n",
              "      <td>1.00000</td>\n",
              "      <td>1.000000e+00</td>\n",
              "      <td>13.57908</td>\n",
              "      <td>-104.92000</td>\n",
              "    </tr>\n",
              "    <tr>\n",
              "      <th>50%</th>\n",
              "      <td>4805.50000</td>\n",
              "      <td>0.00000</td>\n",
              "      <td>0.00000</td>\n",
              "      <td>4782.50000</td>\n",
              "      <td>6.26434</td>\n",
              "      <td>7.317000e+03</td>\n",
              "      <td>1.00000</td>\n",
              "      <td>1.000000e+00</td>\n",
              "      <td>29.85540</td>\n",
              "      <td>23.18405</td>\n",
              "    </tr>\n",
              "    <tr>\n",
              "      <th>75%</th>\n",
              "      <td>7253.25000</td>\n",
              "      <td>1.00000</td>\n",
              "      <td>0.00000</td>\n",
              "      <td>7222.75000</td>\n",
              "      <td>15.83636</td>\n",
              "      <td>3.374800e+04</td>\n",
              "      <td>1.00000</td>\n",
              "      <td>1.642595e+09</td>\n",
              "      <td>41.13458</td>\n",
              "      <td>94.35970</td>\n",
              "    </tr>\n",
              "    <tr>\n",
              "      <th>max</th>\n",
              "      <td>9685.00000</td>\n",
              "      <td>5000.00000</td>\n",
              "      <td>374.00000</td>\n",
              "      <td>9669.00000</td>\n",
              "      <td>215.44888</td>\n",
              "      <td>1.269184e+07</td>\n",
              "      <td>2.00000</td>\n",
              "      <td>4.294356e+09</td>\n",
              "      <td>72.62750</td>\n",
              "      <td>179.42210</td>\n",
              "    </tr>\n",
              "  </tbody>\n",
              "</table>\n",
              "</div>"
            ],
            "text/plain": [
              "               id  fatalities    injuries  ...  changeset_id    latitude   longitude\n",
              "count  9564.00000  8212.00000  3942.00000  ...  9.555000e+03  9564.00000  9564.00000\n",
              "mean   4824.00826     3.53714     0.85236  ...  8.807481e+08    25.66181     3.81578\n",
              "std    2799.04012    64.66976     8.28079  ...  1.325119e+09    20.41618   100.23868\n",
              "min       1.00000     0.00000     0.00000  ...  1.000000e+00   -46.77480  -170.79980\n",
              "25%    2401.75000     0.00000     0.00000  ...  1.000000e+00    13.57908  -104.92000\n",
              "50%    4805.50000     0.00000     0.00000  ...  1.000000e+00    29.85540    23.18405\n",
              "75%    7253.25000     1.00000     0.00000  ...  1.642595e+09    41.13458    94.35970\n",
              "max    9685.00000  5000.00000   374.00000  ...  4.294356e+09    72.62750   179.42210\n",
              "\n",
              "[8 rows x 10 columns]"
            ]
          },
          "metadata": {
            "tags": []
          },
          "execution_count": 51
        }
      ]
    },
    {
      "cell_type": "code",
      "metadata": {
        "id": "aIi7hDwNEW-e",
        "colab_type": "code",
        "colab": {
          "base_uri": "https://localhost:8080/",
          "height": 34
        },
        "outputId": "1573a046-3035-47a2-e240-8cc86558b99a"
      },
      "source": [
        "# Population mean\n",
        "round(df_nasa[\"population\"].mean(), 4)"
      ],
      "execution_count": 77,
      "outputs": [
        {
          "output_type": "execute_result",
          "data": {
            "text/plain": [
              "156874.9141"
            ]
          },
          "metadata": {
            "tags": []
          },
          "execution_count": 77
        }
      ]
    },
    {
      "cell_type": "code",
      "metadata": {
        "id": "8aY8VIXuI5fr",
        "colab_type": "code",
        "colab": {
          "base_uri": "https://localhost:8080/",
          "height": 34
        },
        "outputId": "311f4dc6-499d-4395-a401-ac24be2ec0e1"
      },
      "source": [
        "# Population median\n",
        "df_nasa[\"population\"].median()"
      ],
      "execution_count": 79,
      "outputs": [
        {
          "output_type": "execute_result",
          "data": {
            "text/plain": [
              "7317.0"
            ]
          },
          "metadata": {
            "tags": []
          },
          "execution_count": 79
        }
      ]
    },
    {
      "cell_type": "code",
      "metadata": {
        "id": "E_jFbYK7I5jn",
        "colab_type": "code",
        "colab": {
          "base_uri": "https://localhost:8080/",
          "height": 34
        },
        "outputId": "5ed4b866-a8de-4e51-f56f-32de75937057"
      },
      "source": [
        "# Population standard deviation\n",
        "df_nasa[\"population\"].std()"
      ],
      "execution_count": 80,
      "outputs": [
        {
          "output_type": "execute_result",
          "data": {
            "text/plain": [
              "827242.7013869479"
            ]
          },
          "metadata": {
            "tags": []
          },
          "execution_count": 80
        }
      ]
    },
    {
      "cell_type": "code",
      "metadata": {
        "id": "D58wyNO8IxtN",
        "colab_type": "code",
        "colab": {
          "base_uri": "https://localhost:8080/",
          "height": 51
        },
        "outputId": "1c1edacb-290e-4631-d702-fe2792bd6501"
      },
      "source": [
        "# Population mode\n",
        "df_nasa[\"population\"].mode()"
      ],
      "execution_count": 73,
      "outputs": [
        {
          "output_type": "execute_result",
          "data": {
            "text/plain": [
              "0    0.0\n",
              "dtype: float64"
            ]
          },
          "metadata": {
            "tags": []
          },
          "execution_count": 73
        }
      ]
    },
    {
      "cell_type": "code",
      "metadata": {
        "id": "YtcjIeN5HcF4",
        "colab_type": "code",
        "colab": {
          "base_uri": "https://localhost:8080/",
          "height": 34
        },
        "outputId": "3c918695-e1ff-4749-89e9-ea1e85cf2f7f"
      },
      "source": [
        "# Population variance\n",
        "df_nasa[\"population\"].var()"
      ],
      "execution_count": 74,
      "outputs": [
        {
          "output_type": "execute_result",
          "data": {
            "text/plain": [
              "684330486997.975"
            ]
          },
          "metadata": {
            "tags": []
          },
          "execution_count": 74
        }
      ]
    },
    {
      "cell_type": "code",
      "metadata": {
        "id": "HjHb05p0Jmak",
        "colab_type": "code",
        "colab": {
          "base_uri": "https://localhost:8080/",
          "height": 627
        },
        "outputId": "0e5affe3-0ff1-4b9f-f8f2-34c09af9aad4"
      },
      "source": [
        "pd.crosstab(df_nasa['continentcode'], df_nasa['trigger']).plot(kind='bar', stacked=True, figsize=(15,10))"
      ],
      "execution_count": 94,
      "outputs": [
        {
          "output_type": "execute_result",
          "data": {
            "text/plain": [
              "<matplotlib.axes._subplots.AxesSubplot at 0x7f58ed7d3940>"
            ]
          },
          "metadata": {
            "tags": []
          },
          "execution_count": 94
        },
        {
          "output_type": "display_data",
          "data": {
            "image/png": "[encoded data removed]",
            "text/plain": [
              "<Figure size 1080x720 with 1 Axes>"
            ]
          },
          "metadata": {
            "tags": []
          }
        }
      ]
    }
  ]
}